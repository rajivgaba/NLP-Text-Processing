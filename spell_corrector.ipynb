{
  "cells": [
    {
      "cell_type": "markdown",
      "metadata": {
        "id": "view-in-github",
        "colab_type": "text"
      },
      "source": [
        "<a href=\"https://colab.research.google.com/github/rajivgaba/Spam-Detector/blob/main/spell_corrector.ipynb\" target=\"_parent\"><img src=\"https://colab.research.google.com/assets/colab-badge.svg\" alt=\"Open In Colab\"/></a>"
      ]
    },
    {
      "cell_type": "code",
      "execution_count": 1,
      "metadata": {
        "collapsed": true,
        "id": "FYw3F4YJKztm"
      },
      "outputs": [],
      "source": [
        "import re\n",
        "from collections import Counter"
      ]
    },
    {
      "cell_type": "code",
      "execution_count": 2,
      "metadata": {
        "collapsed": true,
        "id": "nDJnyD6YKztq"
      },
      "outputs": [],
      "source": [
        "# function to tokenise words\n",
        "def words(document):\n",
        "    \"Convert text to lower case and tokenise the document\"\n",
        "    return re.findall(r'\\w+', document.lower())"
      ]
    },
    {
      "cell_type": "code",
      "execution_count": 7,
      "metadata": {
        "collapsed": true,
        "id": "uBa-KNM5Kztr"
      },
      "outputs": [],
      "source": [
        "# create a frequency table of all the words of the document\n",
        "all_words = Counter(words(open('/content/sample_data/big.txt').read()))"
      ]
    },
    {
      "cell_type": "code",
      "execution_count": 8,
      "metadata": {
        "colab": {
          "base_uri": "https://localhost:8080/"
        },
        "id": "nxVD9B55Kzts",
        "outputId": "221ddf1a-17b9-409d-86ca-5f9a5aa03cf8"
      },
      "outputs": [
        {
          "output_type": "execute_result",
          "data": {
            "text/plain": [
              "135"
            ]
          },
          "metadata": {},
          "execution_count": 8
        }
      ],
      "source": [
        "# check frequency of a random word, say, 'chair'\n",
        "all_words['chair']"
      ]
    },
    {
      "cell_type": "code",
      "execution_count": 9,
      "metadata": {
        "colab": {
          "base_uri": "https://localhost:8080/"
        },
        "id": "gwL0KQqxKztt",
        "outputId": "b586a061-a3c5-4787-8689-8a6e6e24c643"
      },
      "outputs": [
        {
          "output_type": "execute_result",
          "data": {
            "text/plain": [
              "[('the', 79809),\n",
              " ('of', 40024),\n",
              " ('and', 38312),\n",
              " ('to', 28765),\n",
              " ('in', 22023),\n",
              " ('a', 21124),\n",
              " ('that', 12512),\n",
              " ('he', 12401),\n",
              " ('was', 11410),\n",
              " ('it', 10681)]"
            ]
          },
          "metadata": {},
          "execution_count": 9
        }
      ],
      "source": [
        "# look at top 10 frequent words\n",
        "all_words.most_common(10)"
      ]
    },
    {
      "cell_type": "code",
      "execution_count": 10,
      "metadata": {
        "collapsed": true,
        "id": "deLb5BspKztu"
      },
      "outputs": [],
      "source": [
        "def edits_one(word):\n",
        "    \"Create all edits that are one edit away from `word`.\"\n",
        "    alphabets    = 'abcdefghijklmnopqrstuvwxyz'\n",
        "    splits     = [(word[:i], word[i:])                   for i in range(len(word) + 1)]\n",
        "    deletes    = [left + right[1:]                       for left, right in splits if right]\n",
        "    inserts    = [left + c + right                       for left, right in splits for c in alphabets]\n",
        "    replaces   = [left + c + right[1:]                   for left, right in splits if right for c in alphabets]\n",
        "    transposes = [left + right[1] + right[0] + right[2:] for left, right in splits if len(right)>1]\n",
        "    return set(deletes + inserts + replaces + transposes)"
      ]
    },
    {
      "cell_type": "code",
      "execution_count": 11,
      "metadata": {
        "collapsed": true,
        "id": "5VYh9p7kKztu"
      },
      "outputs": [],
      "source": [
        "def edits_two(word):\n",
        "    \"Create all edits that are two edits away from `word`.\"\n",
        "    return (e2 for e1 in edits_one(word) for e2 in edits_one(e1))"
      ]
    },
    {
      "cell_type": "code",
      "execution_count": 22,
      "metadata": {
        "collapsed": true,
        "id": "7IQGHzBPKztv"
      },
      "outputs": [],
      "source": [
        "def known(words):\n",
        "    \"The subset of `words` that appear in the `all_words`.\"\n",
        "    return set(word for word in words if word in all_words)"
      ]
    },
    {
      "cell_type": "code",
      "execution_count": 23,
      "metadata": {
        "collapsed": true,
        "id": "RiBFbcDGKztw"
      },
      "outputs": [],
      "source": [
        "def possible_corrections(word):\n",
        "    \"Generate possible spelling corrections for word.\"\n",
        "    return (known([word]) or known(edits_one(word)) or known(edits_two(word)) or [word])"
      ]
    },
    {
      "cell_type": "code",
      "execution_count": 24,
      "metadata": {
        "collapsed": true,
        "id": "ugFA0mz8Kztw"
      },
      "outputs": [],
      "source": [
        "def prob(word, N=sum(all_words.values())):\n",
        "    \"Probability of `word`: Number of appearances of 'word' / total number of tokens\"\n",
        "    return all_words[word] / N"
      ]
    },
    {
      "cell_type": "code",
      "execution_count": 31,
      "metadata": {
        "colab": {
          "base_uri": "https://localhost:8080/"
        },
        "id": "mO7L3Pt2Kztx",
        "outputId": "7a2721d3-9c8c-4086-fbb4-c265e62145ba"
      },
      "outputs": [
        {
          "output_type": "stream",
          "name": "stdout",
          "text": [
            "336\n",
            "{'monnep', 'monnzey', 'mondey', 'monneg', 'mknney', 'nmonney', 'monneyh', 'conney', 'mdnney', 'moncey', 'ymonney', 'monnrey', 'mongney', 'monjey', 'movnney', 'monnay', 'monnwy', 'fonney', 'monmey', 'mosnney', 'moynney', 'mqnney', 'monnewy', 'mbnney', 'mononey', 'monneyi', 'monnem', 'monneyb', 'monniy', 'monxey', 'munney', 'monmney', 'monzney', 'monner', 'moniey', 'monndey', 'mwnney', 'monpey', 'monneyz', 'bonney', 'monoey', 'monnef', 'mopnney', 'monnjy', 'menney', 'monnew', 'monneey', 'mowney', 'mponney', 'monqey', 'monneoy', 'molney', 'money', 'monnyey', 'mognney', 'monnecy', 'monnoey', 'monfey', 'monneyf', 'monneay', 'montey', 'mvnney', 'monnley', 'msnney', 'monneiy', 'monned', 'mocney', 'moxney', 'gonney', 'monyey', 'monneyv', 'monuney', 'monnmy', 'monnsey', 'qonney', 'monnety', 'meonney', 'mxnney', 'kmonney', 'mconney', 'eonney', 'monrney', 'qmonney', 'xmonney', 'monnex', 'monpney', 'monnqey', 'jonney', 'monnpey', 'monnev', 'mqonney', 'uonney', 'monnxy', 'monndy', 'amonney', 'monnby', 'dmonney', 'monneyo', 'sonney', 'monneq', 'mtonney', 'mopney', 'lonney', 'monhey', 'monnny', 'monneyw', 'wmonney', 'monnney', 'wonney', 'monuey', 'monnez', 'mozney', 'monnezy', 'monneky', 'moniney', 'monnexy', 'mofnney', 'muonney', 'monxney', 'monneyu', 'monnen', 'mounney', 'monnes', 'gmonney', 'mvonney', 'monvney', 'mgnney', 'monyney', 'mondney', 'pmonney', 'mynney', 'moyney', 'mownney', 'monneb', 'monneyk', 'mkonney', 'monneyx', 'monvey', 'modnney', 'mfnney', 'monneym', 'monncey', 'monnmey', 'monniey', 'monnely', 'monneyl', 'monbey', 'oonney', 'ionney', 'moqnney', 'mznney', 'monntey', 'monncy', 'myonney', 'xonney', 'monny', 'mgonney', 'mronney', 'monnjey', 'monneyq', 'monneyn', 'monnye', 'mongey', 'monnehy', 'monaney', 'moonney', 'monneny', 'monneyc', 'mnoney', 'mouney', 'vonney', 'monnuy', 'moeney', 'moinney', 'mocnney', 'moenney', 'monneu', 'monneya', 'hmonney', 'mokney', 'moneney', 'monney', 'monneqy', 'emonney', 'tonney', 'jmonney', 'onney', 'monnpy', 'mtnney', 'rmonney', 'monnery', 'msonney', 'momnney', 'monneyy', 'lmonney', 'monnwey', 'mwonney', 'monneby', 'nonney', 'cmonney', 'manney', 'zmonney', 'monnek', 'mxonney', 'monngy', 'monnel', 'monnepy', 'monnhy', 'monnkey', 'monbney', 'monley', 'monnzy', 'monneyj', 'mnonney', 'monnei', 'moqney', 'imonney', 'monsey', 'mohnney', 'mlonney', 'mjnney', 'konney', 'monwey', 'monnefy', 'monfney', 'moneey', 'moanney', 'monaey', 'moznney', 'moneny', 'monnqy', 'fmonney', 'mofney', 'mogney', 'monnxey', 'vmonney', 'mobnney', 'monnesy', 'monnemy', 'mosney', 'monneys', 'momney', 'monnuey', 'mnnney', 'monneyd', 'monrey', 'mojney', 'monnee', 'monnet', 'mpnney', 'monnky', 'omonney', 'monlney', 'zonney', 'monneye', 'mlnney', 'mcnney', 'montney', 'bmonney', 'mornney', 'monnej', 'monnegy', 'monsney', 'minney', 'maonney', 'mooney', 'omnney', 'mhnney', 'monneyt', 'monnfy', 'tmonney', 'monzey', 'monwney', 'monkey', 'monnvy', 'movney', 'monne', 'mobney', 'monnejy', 'monhney', 'mionney', 'mohney', 'donney', 'mbonney', 'moncney', 'monneyp', 'moxnney', 'honney', 'monkney', 'monneuy', 'monnty', 'mjonney', 'motnney', 'modney', 'mdonney', 'monnaey', 'monnedy', 'monngey', 'monqney', 'monnbey', 'mhonney', 'monnec', 'monnhey', 'monneo', 'ronney', 'umonney', 'moaney', 'monnry', 'monneyg', 'mnney', 'mojnney', 'yonney', 'monnoy', 'monnevy', 'monnly', 'molnney', 'monnsy', 'monneh', 'aonney', 'monnea', 'monjney', 'mmonney', 'monnyy', 'moiney', 'mrnney', 'moknney', 'monnvey', 'mmnney', 'monnfey', 'monneyr', 'mzonney', 'smonney', 'motney', 'ponney', 'morney', 'mfonney'}\n"
          ]
        }
      ],
      "source": [
        "print(len(set(edits_one(\"monney\"))))\n",
        "print(edits_one(\"monney\"))"
      ]
    },
    {
      "cell_type": "code",
      "execution_count": 32,
      "metadata": {
        "colab": {
          "base_uri": "https://localhost:8080/"
        },
        "id": "txzfSzQmKztx",
        "outputId": "87e8a403-2a14-410d-e4ed-b59cbd076f53"
      },
      "outputs": [
        {
          "output_type": "stream",
          "name": "stdout",
          "text": [
            "{'monkey', 'money'}\n"
          ]
        }
      ],
      "source": [
        "print(known(edits_one(\"monney\")))"
      ]
    },
    {
      "cell_type": "code",
      "execution_count": 35,
      "metadata": {
        "colab": {
          "base_uri": "https://localhost:8080/"
        },
        "id": "-LrvfDJgKzty",
        "outputId": "f9bf4520-fe17-4a64-9878-f00387b49afa"
      },
      "outputs": [
        {
          "output_type": "stream",
          "name": "stdout",
          "text": [
            "51013\n",
            "{'manned', 'monger', 'donne', 'monkey', 'bonny', 'olney', 'bonne', 'honey', 'donkey', 'money', 'manner', 'monkeys', 'tonne', 'convey', 'donned', 'bonnet', 'monday', 'motley', 'moaned', 'moines', 'morley'}\n"
          ]
        }
      ],
      "source": [
        "# Let's look at words that are two edits away\n",
        "print(len(set(edits_two(\"monney\"))))\n",
        "print(known(edits_two(\"monney\")))"
      ]
    },
    {
      "cell_type": "code",
      "execution_count": 36,
      "metadata": {
        "colab": {
          "base_uri": "https://localhost:8080/"
        },
        "id": "W7aCffNGKzty",
        "outputId": "7f90e6a6-2f00-4a17-9976-312673806907"
      },
      "outputs": [
        {
          "output_type": "stream",
          "name": "stdout",
          "text": [
            "{'monkey', 'money'}\n"
          ]
        }
      ],
      "source": [
        "# Let's look at possible corrections of a word\n",
        "print(possible_corrections(\"monney\"))"
      ]
    },
    {
      "cell_type": "code",
      "execution_count": 37,
      "metadata": {
        "colab": {
          "base_uri": "https://localhost:8080/"
        },
        "id": "ibwUWrmjKzty",
        "outputId": "3269dacd-4909-4738-b963-24fc1945a265"
      },
      "outputs": [
        {
          "output_type": "stream",
          "name": "stdout",
          "text": [
            "0.0002922233626303688\n",
            "5.378344097491451e-06\n"
          ]
        }
      ],
      "source": [
        "# Let's look at probability of a word\n",
        "print(prob(\"money\"))\n",
        "print(prob(\"monkey\"))"
      ]
    },
    {
      "cell_type": "code",
      "execution_count": 38,
      "metadata": {
        "id": "3-U3Vt8NKzty"
      },
      "outputs": [],
      "source": [
        "def spell_check(word):\n",
        "    \"Print the most probable spelling correction for `word` out of all the `possible_corrections`\"\n",
        "    correct_word = max(possible_corrections(word), key=prob)\n",
        "    if correct_word != word:\n",
        "        return \"Did you mean \" + correct_word + \"?\"\n",
        "    else:\n",
        "        return \"Correct spelling.\""
      ]
    },
    {
      "cell_type": "code",
      "execution_count": 39,
      "metadata": {
        "colab": {
          "base_uri": "https://localhost:8080/"
        },
        "id": "jPySXzTJKztz",
        "outputId": "d0430da4-5e05-4627-8bc9-329c7c58c190"
      },
      "outputs": [
        {
          "output_type": "stream",
          "name": "stdout",
          "text": [
            "Did you mean money?\n"
          ]
        }
      ],
      "source": [
        "# test spell check\n",
        "print(spell_check(\"monney\"))"
      ]
    },
    {
      "cell_type": "code",
      "source": [
        "len(edits_one('wat'))"
      ],
      "metadata": {
        "colab": {
          "base_uri": "https://localhost:8080/"
        },
        "id": "6jTx9GxOOEvc",
        "outputId": "b638c2b7-ef8b-4d85-a5ad-fb4ebba5069a"
      },
      "execution_count": 29,
      "outputs": [
        {
          "output_type": "execute_result",
          "data": {
            "text/plain": [
              "182"
            ]
          },
          "metadata": {},
          "execution_count": 29
        }
      ]
    },
    {
      "cell_type": "code",
      "source": [
        "len(set(edits_two('wat')))"
      ],
      "metadata": {
        "colab": {
          "base_uri": "https://localhost:8080/"
        },
        "id": "1di_PyjROIep",
        "outputId": "2beb75c7-4888-407a-b2af-2201e098638f"
      },
      "execution_count": 30,
      "outputs": [
        {
          "output_type": "execute_result",
          "data": {
            "text/plain": [
              "14352"
            ]
          },
          "metadata": {},
          "execution_count": 30
        }
      ]
    },
    {
      "cell_type": "code",
      "source": [
        "possible_corrections('wat')"
      ],
      "metadata": {
        "colab": {
          "base_uri": "https://localhost:8080/"
        },
        "id": "Qe4_iUhbOQRw",
        "outputId": "d340e688-feae-4ced-a972-0c7cf500d5b9"
      },
      "execution_count": 28,
      "outputs": [
        {
          "output_type": "execute_result",
          "data": {
            "text/plain": [
              "{'wat'}"
            ]
          },
          "metadata": {},
          "execution_count": 28
        }
      ]
    },
    {
      "cell_type": "code",
      "source": [],
      "metadata": {
        "id": "XvCJLzWhOd9g"
      },
      "execution_count": null,
      "outputs": []
    }
  ],
  "metadata": {
    "kernelspec": {
      "display_name": "Python 3",
      "language": "python",
      "name": "python3"
    },
    "language_info": {
      "codemirror_mode": {
        "name": "ipython",
        "version": 3
      },
      "file_extension": ".py",
      "mimetype": "text/x-python",
      "name": "python",
      "nbconvert_exporter": "python",
      "pygments_lexer": "ipython3",
      "version": "3.6.4"
    },
    "colab": {
      "provenance": [],
      "include_colab_link": true
    }
  },
  "nbformat": 4,
  "nbformat_minor": 0
}