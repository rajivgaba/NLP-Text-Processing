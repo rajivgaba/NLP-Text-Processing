{
  "nbformat": 4,
  "nbformat_minor": 0,
  "metadata": {
    "colab": {
      "name": "Heteronyms_POS_Commented.ipynb",
      "provenance": []
    },
    "kernelspec": {
      "name": "python3",
      "display_name": "Python 3"
    },
    "language_info": {
      "name": "python"
    }
  },
  "cells": [
    {
      "cell_type": "markdown",
      "metadata": {
        "id": "C5jJ9kQzPjge"
      },
      "source": [
        "**Heteronyms** are the words that have same spelling but mean different things when pronounced differently.\n",
        "\n",
        "\n",
        "- Recall the word *lead* from the lectures. It can refer to the metal lead or the act of leadership. The two pronounciations have different meanings.\n",
        "\n",
        "- For machine translation systems or text to speech systems, the ability to identify the correct sense of the word is crucial.\n",
        "\n",
        "\n"
      ]
    },
    {
      "cell_type": "markdown",
      "metadata": {
        "id": "sHvYVoL7i7_a"
      },
      "source": [
        "Let us have a look at this example:\n",
        "\n",
        "https://translate.google.com/?sl=en&tl=hi&text=She%20wished%20she%20could%20desert%20him%20in%20the%20desert.%0A&op=translate\n",
        "\n",
        "Example taken from: http://www-personal.umich.edu/~cellis/heteronym.html\n"
      ]
    },
    {
      "cell_type": "code",
      "metadata": {
        "id": "foKQ_tmOEca0"
      },
      "source": [
        "# Import SpaCy library\n",
        "\n",
        "import spacy\n"
      ],
      "execution_count": 1,
      "outputs": []
    },
    {
      "cell_type": "code",
      "metadata": {
        "id": "YRtKtXi9kC72"
      },
      "source": [
        "# Load pre-trained SpaCy model for performing basic\n",
        "# NLP tasks such as POS tagging, parsing, etc.\n",
        "\n",
        "model = spacy.load(\"en_core_web_sm\")\n"
      ],
      "execution_count": 2,
      "outputs": []
    },
    {
      "cell_type": "code",
      "metadata": {
        "id": "yjtQ_cgdk3pn"
      },
      "source": [
        "#Use the model to process the input sentence\n",
        "\n",
        "tokens = model(\"She wished she could desert him in the desert.\")\n"
      ],
      "execution_count": 3,
      "outputs": []
    },
    {
      "cell_type": "code",
      "metadata": {
        "id": "gXtwtkrflcPF",
        "colab": {
          "base_uri": "https://localhost:8080/"
        },
        "outputId": "2424ef66-2c2f-43cb-d185-19ba43dc1a24"
      },
      "source": [
        "# Print the tokens and their respective PoS tags.\n",
        "\n",
        "for token in tokens:\n",
        "  print(f\"{token.text} is a  {token.pos_} and tagged as  {token.tag_}\")\n",
        "\n"
      ],
      "execution_count": 8,
      "outputs": [
        {
          "output_type": "stream",
          "name": "stdout",
          "text": [
            "She is a  PRON and tagged as  PRP\n",
            "wished is a  VERB and tagged as  VBD\n",
            "she is a  PRON and tagged as  PRP\n",
            "could is a  AUX and tagged as  MD\n",
            "desert is a  VERB and tagged as  VB\n",
            "him is a  PRON and tagged as  PRP\n",
            "in is a  ADP and tagged as  IN\n",
            "the is a  DET and tagged as  DT\n",
            "desert is a  NOUN and tagged as  NN\n",
            ". is a  PUNCT and tagged as  .\n"
          ]
        }
      ]
    },
    {
      "cell_type": "markdown",
      "metadata": {
        "id": "G5YMNqqF-sHl"
      },
      "source": [
        "Note here that in the above example, the two instances of *desert* have different PoS tags and hence, the text to speech system can use this information to generate the correct pronounciation.\n",
        "\n",
        "The above task is a specific example of the larger NLP problem called Word Sense Disambiguation (WSD). For words that have more than one meaning, WSD is the problem of identifying the correct meaning of the word based on the context in which the word is used.\n",
        "\n"
      ]
    },
    {
      "cell_type": "markdown",
      "metadata": {
        "id": "gJMNHvrRx-rA"
      },
      "source": [
        "Note that this technique will not work when the different meanings have the same PoS tags.\n",
        "\n",
        "https://translate.google.com/?sl=en&tl=hi&text=The%20bass%20swam%20around%20the%20bass%20drum%20on%20the%20ocean%20floor.&op=translate"
      ]
    },
    {
      "cell_type": "code",
      "metadata": {
        "id": "Xd8l1zfNmgQz",
        "colab": {
          "base_uri": "https://localhost:8080/"
        },
        "outputId": "2b6d2b9b-6845-4a93-f0cd-307da03cb8bb"
      },
      "source": [
        "# Let's take a new example.\n",
        "\n",
        "tokens = model(\"The bass swam around the bass drum on the ocean floor.\")\n",
        "\n",
        "for token in tokens:\n",
        "  print(f\"{token.text} -  {token.pos_} -  {token.tag_}\")"
      ],
      "execution_count": 11,
      "outputs": [
        {
          "output_type": "stream",
          "name": "stdout",
          "text": [
            "The -  DET -  DT\n",
            "bass -  NOUN -  NN\n",
            "swam -  NOUN -  NN\n",
            "around -  ADP -  IN\n",
            "the -  DET -  DT\n",
            "bass -  NOUN -  NN\n",
            "drum -  NOUN -  NN\n",
            "on -  ADP -  IN\n",
            "the -  DET -  DT\n",
            "ocean -  NOUN -  NN\n",
            "floor -  NOUN -  NN\n",
            ". -  PUNCT -  .\n"
          ]
        }
      ]
    },
    {
      "cell_type": "code",
      "metadata": {
        "id": "3IHqXulWJYVj",
        "colab": {
          "base_uri": "https://localhost:8080/"
        },
        "outputId": "f896c992-d97d-4e94-ef0e-a7110e53e485"
      },
      "source": [
        "tokens = model(\"UpGrad is teaching Data Science courses to the working professionals.\")\n",
        "\n",
        "for token in tokens:\n",
        "  print(f\"{token.text} -  {token.pos_} -  {token.tag_}\")"
      ],
      "execution_count": 13,
      "outputs": [
        {
          "output_type": "stream",
          "name": "stdout",
          "text": [
            "UpGrad -  PROPN -  NNP\n",
            "is -  AUX -  VBZ\n",
            "teaching -  VERB -  VBG\n",
            "Data -  PROPN -  NNP\n",
            "Science -  PROPN -  NNP\n",
            "courses -  NOUN -  NNS\n",
            "to -  ADP -  IN\n",
            "the -  DET -  DT\n",
            "working -  VERB -  VBG\n",
            "professionals -  NOUN -  NNS\n",
            ". -  PUNCT -  .\n"
          ]
        }
      ]
    },
    {
      "cell_type": "code",
      "source": [],
      "metadata": {
        "id": "uHmXuS8v22XN"
      },
      "execution_count": null,
      "outputs": []
    }
  ]
}