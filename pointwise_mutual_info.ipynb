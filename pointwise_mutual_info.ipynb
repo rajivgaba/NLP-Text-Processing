{
  "nbformat": 4,
  "nbformat_minor": 0,
  "metadata": {
    "colab": {
      "provenance": [],
      "authorship_tag": "ABX9TyPmwvDOpTgYi76UE3sFYoIB",
      "include_colab_link": true
    },
    "kernelspec": {
      "name": "python3",
      "display_name": "Python 3"
    },
    "language_info": {
      "name": "python"
    }
  },
  "cells": [
    {
      "cell_type": "markdown",
      "metadata": {
        "id": "view-in-github",
        "colab_type": "text"
      },
      "source": [
        "<a href=\"https://colab.research.google.com/github/rajivgaba/NLP-Text-Processing/blob/main/pointwise_mutual_info.ipynb\" target=\"_parent\"><img src=\"https://colab.research.google.com/assets/colab-badge.svg\" alt=\"Open In Colab\"/></a>"
      ]
    },
    {
      "cell_type": "code",
      "execution_count": 1,
      "metadata": {
        "id": "hFPkvyECSyuv"
      },
      "outputs": [],
      "source": [
        "import re"
      ]
    },
    {
      "cell_type": "code",
      "source": [
        "text = \"The Nobel Prize is a set of five annual international awards bestowed in several categories by Swedish and Norwegian institutions in recognition of academic, cultural, or scientific advances. In the 19th century, the Nobel family who were known for their innovations to the oil industry in Azerbaijan was the leading representative of foreign capital in Baku. The Nobel Prize was funded by personal fortune of Alfred Nobel. The Board of the Nobel Foundation decided that after this addition, it would allow no further new prize.\""
      ],
      "metadata": {
        "id": "wQc-mOGYS2XS"
      },
      "execution_count": 2,
      "outputs": []
    },
    {
      "cell_type": "code",
      "source": [
        "sentences = text.lower().split('.')\n",
        "sentences"
      ],
      "metadata": {
        "colab": {
          "base_uri": "https://localhost:8080/"
        },
        "id": "yt2HPVhmTDhW",
        "outputId": "66eab58d-f87a-4104-ebaa-ebe0b5861d32"
      },
      "execution_count": 7,
      "outputs": [
        {
          "output_type": "execute_result",
          "data": {
            "text/plain": [
              "['the nobel prize is a set of five annual international awards bestowed in several categories by swedish and norwegian institutions in recognition of academic, cultural, or scientific advances',\n",
              " ' in the 19th century, the nobel family who were known for their innovations to the oil industry in azerbaijan was the leading representative of foreign capital in baku',\n",
              " ' the nobel prize was funded by personal fortune of alfred nobel',\n",
              " ' the board of the nobel foundation decided that after this addition, it would allow no further new prize',\n",
              " '']"
            ]
          },
          "metadata": {},
          "execution_count": 7
        }
      ]
    },
    {
      "cell_type": "code",
      "source": [
        "total_sentences = len(sentences)\n",
        "total_sentences"
      ],
      "metadata": {
        "colab": {
          "base_uri": "https://localhost:8080/"
        },
        "id": "Trlydi5MTyO4",
        "outputId": "9bce0e3f-f38c-4bca-bbec-2b73e4699ce5"
      },
      "execution_count": 10,
      "outputs": [
        {
          "output_type": "execute_result",
          "data": {
            "text/plain": [
              "5"
            ]
          },
          "metadata": {},
          "execution_count": 10
        }
      ]
    },
    {
      "cell_type": "code",
      "source": [
        "nobel_sent = [sent for sent in sentences if 'nobel' in sent]\n",
        "nobel_sent"
      ],
      "metadata": {
        "colab": {
          "base_uri": "https://localhost:8080/"
        },
        "id": "pVo_cfHHT5il",
        "outputId": "63246cde-ce4e-47d6-d42b-37098fe428a8"
      },
      "execution_count": 11,
      "outputs": [
        {
          "output_type": "execute_result",
          "data": {
            "text/plain": [
              "['the nobel prize is a set of five annual international awards bestowed in several categories by swedish and norwegian institutions in recognition of academic, cultural, or scientific advances',\n",
              " ' in the 19th century, the nobel family who were known for their innovations to the oil industry in azerbaijan was the leading representative of foreign capital in baku',\n",
              " ' the nobel prize was funded by personal fortune of alfred nobel',\n",
              " ' the board of the nobel foundation decided that after this addition, it would allow no further new prize']"
            ]
          },
          "metadata": {},
          "execution_count": 11
        }
      ]
    },
    {
      "cell_type": "code",
      "source": [
        "prize_sent = [sent for sent in sentences if 'prize' in sent]\n",
        "prize_sent, len(prize_sent)"
      ],
      "metadata": {
        "colab": {
          "base_uri": "https://localhost:8080/"
        },
        "id": "WnwMwUPBUVnt",
        "outputId": "842b267b-8dd7-4d81-8393-790221e8c7b4"
      },
      "execution_count": 13,
      "outputs": [
        {
          "output_type": "execute_result",
          "data": {
            "text/plain": [
              "(['the nobel prize is a set of five annual international awards bestowed in several categories by swedish and norwegian institutions in recognition of academic, cultural, or scientific advances',\n",
              "  ' the nobel prize was funded by personal fortune of alfred nobel',\n",
              "  ' the board of the nobel foundation decided that after this addition, it would allow no further new prize'],\n",
              " 3)"
            ]
          },
          "metadata": {},
          "execution_count": 13
        }
      ]
    },
    {
      "cell_type": "code",
      "source": [
        "3/4"
      ],
      "metadata": {
        "colab": {
          "base_uri": "https://localhost:8080/"
        },
        "id": "LJEVLV1CUeW9",
        "outputId": "14f9b8ea-9b1b-4f51-c971-7f84d6f23ae1"
      },
      "execution_count": 20,
      "outputs": [
        {
          "output_type": "execute_result",
          "data": {
            "text/plain": [
              "0.75"
            ]
          },
          "metadata": {},
          "execution_count": 20
        }
      ]
    },
    {
      "cell_type": "code",
      "source": [
        "sentences[4]"
      ],
      "metadata": {
        "colab": {
          "base_uri": "https://localhost:8080/",
          "height": 35
        },
        "id": "cEvSmmo_UiOs",
        "outputId": "1729b042-4d2f-4663-cbbd-f84f452d1c1e"
      },
      "execution_count": 19,
      "outputs": [
        {
          "output_type": "execute_result",
          "data": {
            "text/plain": [
              "''"
            ],
            "application/vnd.google.colaboratory.intrinsic+json": {
              "type": "string"
            }
          },
          "metadata": {},
          "execution_count": 19
        }
      ]
    },
    {
      "cell_type": "code",
      "source": [],
      "metadata": {
        "id": "2sTbf0mCVNxo"
      },
      "execution_count": null,
      "outputs": []
    },
    {
      "cell_type": "code",
      "source": [],
      "metadata": {
        "id": "krk7Ux8MVNuu"
      },
      "execution_count": null,
      "outputs": []
    },
    {
      "cell_type": "code",
      "source": [
        "nd_sent = [sent for sent in sentences if 'nobel prize' in sent]\n",
        "nd_sent, len(nd_sent)"
      ],
      "metadata": {
        "colab": {
          "base_uri": "https://localhost:8080/"
        },
        "id": "1kFqzqsyUzDF",
        "outputId": "f98ef3d5-dab2-4b49-dbf9-4ff645513dba"
      },
      "execution_count": 22,
      "outputs": [
        {
          "output_type": "execute_result",
          "data": {
            "text/plain": [
              "(['the nobel prize is a set of five annual international awards bestowed in several categories by swedish and norwegian institutions in recognition of academic, cultural, or scientific advances',\n",
              "  ' the nobel prize was funded by personal fortune of alfred nobel'],\n",
              " 2)"
            ]
          },
          "metadata": {},
          "execution_count": 22
        }
      ]
    },
    {
      "cell_type": "code",
      "source": [
        "np = 0.5\n",
        "n = 1\n",
        "p = 0.75"
      ],
      "metadata": {
        "id": "Wy1KSI_0VQFt"
      },
      "execution_count": 25,
      "outputs": []
    },
    {
      "cell_type": "code",
      "source": [
        "import math\n",
        "\n",
        "math.log10(0.5/(1*0.75))"
      ],
      "metadata": {
        "colab": {
          "base_uri": "https://localhost:8080/"
        },
        "id": "gt4JLqLBVfYl",
        "outputId": "fff707cb-dcbe-4a35-8058-18b273ca007a"
      },
      "execution_count": 26,
      "outputs": [
        {
          "output_type": "execute_result",
          "data": {
            "text/plain": [
              "-0.17609125905568127"
            ]
          },
          "metadata": {},
          "execution_count": 26
        }
      ]
    },
    {
      "cell_type": "code",
      "source": [],
      "metadata": {
        "id": "Mh2VNzCNVnfN"
      },
      "execution_count": null,
      "outputs": []
    }
  ]
}